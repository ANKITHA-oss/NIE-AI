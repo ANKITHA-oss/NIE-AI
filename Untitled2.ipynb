{
 "cells": [
  {
   "cell_type": "code",
   "execution_count": 1,
   "id": "007a31bf-1504-4c23-9705-4702301e0de1",
   "metadata": {},
   "outputs": [
    {
     "name": "stdout",
     "output_type": "stream",
     "text": [
      "All the rooom are dirty\n",
      "[[1, 1, 1, 1], [1, 1, 1, 1], [1, 1, 1, 1], [1, 1, 1, 1]]\n",
      "Before cleaning the room I detect all of these random dirts\n",
      "[[1, 1, 0, 0], [1, 0, 0, 0], [0, 1, 0, 1], [1, 1, 0, 1]]\n",
      "Vaccum in this location now, 0 0\n",
      "cleaned 0 0\n",
      "Vaccum in this location now, 0 1\n",
      "cleaned 0 1\n",
      "Vaccum in this location now, 1 0\n",
      "cleaned 1 0\n",
      "Vaccum in this location now, 2 1\n",
      "cleaned 2 1\n",
      "Vaccum in this location now, 2 3\n",
      "cleaned 2 3\n",
      "Vaccum in this location now, 3 0\n",
      "cleaned 3 0\n",
      "Vaccum in this location now, 3 1\n",
      "cleaned 3 1\n",
      "Vaccum in this location now, 3 3\n",
      "cleaned 3 3\n",
      "Room is clean now, Thanks for using : 3710933\n",
      "[[0, 0, 0, 0], [0, 0, 0, 0], [0, 0, 0, 0], [0, 0, 0, 0]]\n",
      "performance= 50.0 %\n"
     ]
    }
   ],
   "source": [
    "import random\n",
    "\n",
    "def display(room):\n",
    "    print(room)\n",
    "\n",
    "room = [\n",
    "    [1, 1, 1, 1],\n",
    "    [1, 1, 1, 1],\n",
    "    [1, 1, 1, 1],\n",
    "    [1, 1, 1, 1],\n",
    "]\n",
    "print(\"All the rooom are dirty\")\n",
    "display(room)\n",
    "\n",
    "x =0\n",
    "y= 0\n",
    "\n",
    "while x < 4:\n",
    "    while y < 4:\n",
    "        room[x][y] = random.choice([0,1])\n",
    "        y+=1\n",
    "    x+=1\n",
    "    y=0\n",
    "\n",
    "print(\"Before cleaning the room I detect all of these random dirts\")\n",
    "display(room)\n",
    "x =0\n",
    "y= 0\n",
    "z=0\n",
    "while x < 4:\n",
    "    while y < 4:\n",
    "        if room[x][y] == 1:\n",
    "            print(\"Vaccum in this location now,\",x, y)\n",
    "            room[x][y] = 0\n",
    "            print(\"cleaned\", x, y)\n",
    "            z+=1\n",
    "        y+=1\n",
    "    x+=1\n",
    "    y=0\n",
    "pro= (100-((z/16)*100))\n",
    "print(\"Room is clean now, Thanks for using : 3710933\")\n",
    "display(room)\n",
    "print('performance=',pro,'%')\n",
    "\n",
    "\n"
   ]
  },
  {
   "cell_type": "code",
   "execution_count": 5,
   "id": "4ca599c2-4b57-42ca-aa66-39c927d5fcdd",
   "metadata": {},
   "outputs": [
    {
     "name": "stdout",
     "output_type": "stream",
     "text": [
      "BFS Traversal Order:\n",
      "A B C D E F "
     ]
    }
   ],
   "source": [
    "from collections import deque\n",
    "graph = {\n",
    "    'A': ['B', 'C'],\n",
    "    'B': ['D', 'E'],\n",
    "    'C': ['F'],\n",
    "    'D': [],\n",
    "    'E': [],\n",
    "    'F': []\n",
    "    }\n",
    "def bfs(graph, start_node):\n",
    "    visited = set()\n",
    "    queue = deque([start_node])\n",
    "    print(\"BFS Traversal Order:\")\n",
    "    while queue:\n",
    "        current_node = queue.popleft()\n",
    "        if current_node not in visited:\n",
    "            print(current_node, end=\" \")\n",
    "            visited.add(current_node)\n",
    "            for neighbor in graph[current_node]:\n",
    "                if neighbor not in visited:\n",
    "                    queue.append(neighbor)\n",
    "bfs(graph,'A')\n"
   ]
  },
  {
   "cell_type": "code",
   "execution_count": null,
   "id": "eff5e7a9-3ddb-4975-9873-00399dd3e6f3",
   "metadata": {},
   "outputs": [],
   "source": []
  }
 ],
 "metadata": {
  "kernelspec": {
   "display_name": "Python [conda env:base] *",
   "language": "python",
   "name": "conda-base-py"
  },
  "language_info": {
   "codemirror_mode": {
    "name": "ipython",
    "version": 3
   },
   "file_extension": ".py",
   "mimetype": "text/x-python",
   "name": "python",
   "nbconvert_exporter": "python",
   "pygments_lexer": "ipython3",
   "version": "3.12.4"
  }
 },
 "nbformat": 4,
 "nbformat_minor": 5
}
