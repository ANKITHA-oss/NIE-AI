{
  "nbformat": 4,
  "nbformat_minor": 0,
  "metadata": {
    "colab": {
      "provenance": []
    },
    "kernelspec": {
      "name": "python3",
      "display_name": "Python 3"
    },
    "language_info": {
      "name": "python"
    }
  },
  "cells": [
    {
      "cell_type": "code",
      "execution_count": null,
      "metadata": {
        "colab": {
          "base_uri": "https://localhost:8080/"
        },
        "id": "Q10S9BqOWMe_",
        "outputId": "99b469ab-9871-493d-ed5c-0180466fd3c0"
      },
      "outputs": [
        {
          "output_type": "stream",
          "name": "stdout",
          "text": [
            "Requirement already satisfied: pandas in /usr/local/lib/python3.11/dist-packages (2.2.2)\n",
            "Requirement already satisfied: numpy>=1.23.2 in /usr/local/lib/python3.11/dist-packages (from pandas) (2.0.2)\n",
            "Requirement already satisfied: python-dateutil>=2.8.2 in /usr/local/lib/python3.11/dist-packages (from pandas) (2.8.2)\n",
            "Requirement already satisfied: pytz>=2020.1 in /usr/local/lib/python3.11/dist-packages (from pandas) (2025.1)\n",
            "Requirement already satisfied: tzdata>=2022.7 in /usr/local/lib/python3.11/dist-packages (from pandas) (2025.1)\n",
            "Requirement already satisfied: six>=1.5 in /usr/local/lib/python3.11/dist-packages (from python-dateutil>=2.8.2->pandas) (1.17.0)\n"
          ]
        }
      ],
      "source": [
        "!pip install pandas"
      ]
    },
    {
      "cell_type": "code",
      "source": [
        "import pandas as pd"
      ],
      "metadata": {
        "id": "90gJT_VXWQgn"
      },
      "execution_count": null,
      "outputs": []
    },
    {
      "cell_type": "code",
      "source": [
        "def reflex_vacuum_agent(location,status):\n",
        "  if status==\"dirty\":\n",
        "    return \"suck\"\n",
        "  elif location ==\"A\":\n",
        "      return \"right\"\n",
        "  elif location ==\"B\":\n",
        "      return \"left\""
      ],
      "metadata": {
        "id": "nVIJCZ89WT2X"
      },
      "execution_count": null,
      "outputs": []
    },
    {
      "cell_type": "code",
      "source": [
        "location=\"A\"\n",
        "status=\"dirty\"\n",
        "action=reflex_vacuum_agent(location,status)\n",
        "print(f\"location:{location},status:{status},action:{action}\")"
      ],
      "metadata": {
        "colab": {
          "base_uri": "https://localhost:8080/"
        },
        "id": "HQOqLMxUWv2N",
        "outputId": "f3b1be2b-f883-4a67-bedb-6e3220e5b6b3"
      },
      "execution_count": null,
      "outputs": [
        {
          "output_type": "stream",
          "name": "stdout",
          "text": [
            "location:A,status:dirty,action:suck\n"
          ]
        }
      ]
    },
    {
      "cell_type": "code",
      "source": [
        "def reflex_vacuum_agent(location,status):\n",
        "  if status==\"dirty\":\n",
        "    return \"suck\"\n",
        "  elif location ==\"A\":\n",
        "      return \"right\"\n",
        "  elif location ==\"B\":\n",
        "      return \"left\""
      ],
      "metadata": {
        "id": "vxAbVxxeXei0"
      },
      "execution_count": null,
      "outputs": []
    },
    {
      "cell_type": "code",
      "source": [
        "location=\"A\"\n",
        "status=\"dirty\"\n",
        "locations=[\"A\",\"B\"]"
      ],
      "metadata": {
        "id": "dmbxrnysYIYP"
      },
      "execution_count": null,
      "outputs": []
    },
    {
      "cell_type": "code",
      "source": [
        "location=\"A\"\n",
        "status=\"dirty\"\n",
        "locations=[\"A\",\"B\"]\n",
        "for _ in range(5):\n",
        "  action=reflex_vacuum_agent(location,status)\n",
        "  print(f\"location:{location},status:{status},action:{action}\")\n",
        "  if action==\"suck\":\n",
        "    status=\"clean\"\n",
        "  elif action==\"right\":\n",
        "    location=\"B\"\n",
        "  elif action==\"left\":\n",
        "    location=\"A\""
      ],
      "metadata": {
        "colab": {
          "base_uri": "https://localhost:8080/"
        },
        "id": "q7yaQ43cYUo-",
        "outputId": "ab549205-f8ab-40f6-8fff-5412b22bae78"
      },
      "execution_count": null,
      "outputs": [
        {
          "output_type": "stream",
          "name": "stdout",
          "text": [
            "location:A,status:dirty,action:suck\n",
            "location:A,status:clean,action:right\n",
            "location:B,status:clean,action:left\n",
            "location:A,status:clean,action:right\n",
            "location:B,status:clean,action:left\n"
          ]
        }
      ]
    },
    {
      "cell_type": "code",
      "source": [
        "def move_towards_goal(position,goal):\n",
        "  while position<goal:\n",
        "    posotion+=1\n",
        "    print(f\"current position:{possition}\" )\n",
        "\n",
        "  print(\"reached the goal\")\n",
        "  initial_position=0\n",
        "  goal_position=5\n",
        "  move_towards_goal(initial_position,goal_position)"
      ],
      "metadata": {
        "id": "Xm4nSZZRZT63"
      },
      "execution_count": null,
      "outputs": []
    },
    {
      "cell_type": "code",
      "source": [
        "def display(room):\n",
        "  print(room)\n",
        "  room=[[1,1,1,1],[1,1,1,1],[1,1,1,1],[1,1,1,1]]\n",
        "  print(\"all the rooms are dirty\")\n",
        "  display(room)\n",
        "  x=0\n",
        "  y=0"
      ],
      "metadata": {
        "id": "aSqYTbG8ati3"
      },
      "execution_count": null,
      "outputs": []
    }
  ]
}