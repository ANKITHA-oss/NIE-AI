{
 "cells": [
  {
   "cell_type": "code",
   "execution_count": 1,
   "id": "f168a9ce-dc84-4155-8f22-f11f22ca3776",
   "metadata": {},
   "outputs": [],
   "source": [
    "import pandas as pd"
   ]
  },
  {
   "cell_type": "code",
   "execution_count": 32,
   "id": "7982df32-f213-4584-9c58-88e7693adfca",
   "metadata": {},
   "outputs": [
    {
     "name": "stdout",
     "output_type": "stream",
     "text": [
      "All the rooms are dirty\n",
      "[[1, 1, 1, 1], [1, 1, 1, 1], [1, 1, 1, 1], [1, 1, 1, 1]]\n",
      "Before cleaning the room, I detect all of these random dirts\n",
      "[[0, 1, 1, 1], [0, 1, 1, 1], [0, 0, 1, 1], [1, 0, 1, 1]]\n",
      "Vaccum in this location now:  0 1\n",
      "Cleaned:  0 1\n",
      "Vaccum in this location now:  0 2\n",
      "Cleaned:  0 2\n",
      "Vaccum in this location now:  0 3\n",
      "Cleaned:  0 3\n",
      "Vaccum in this location now:  1 1\n",
      "Cleaned:  1 1\n",
      "Vaccum in this location now:  1 2\n",
      "Cleaned:  1 2\n",
      "Vaccum in this location now:  1 3\n",
      "Cleaned:  1 3\n",
      "Vaccum in this location now:  2 2\n",
      "Cleaned:  2 2\n",
      "Vaccum in this location now:  2 3\n",
      "Cleaned:  2 3\n",
      "Vaccum in this location now:  3 0\n",
      "Cleaned:  3 0\n",
      "Vaccum in this location now:  3 2\n",
      "Cleaned:  3 2\n",
      "Vaccum in this location now:  3 3\n",
      "Cleaned:  3 3\n",
      "Room is clean now. Thanks for using the Robot Vacuum Cleaner!\n",
      "[[0, 0, 0, 0], [0, 0, 0, 0], [0, 0, 0, 0], [0, 0, 0, 0]]\n",
      "Performance =  31.25 %\n"
     ]
    }
   ],
   "source": [
    "import random\n",
    "def display(room):\n",
    "    print(room)\n",
    "room = [\n",
    "    [1, 1, 1, 1],\n",
    "    [1, 1, 1, 1],\n",
    "    [1, 1, 1, 1],\n",
    "    [1, 1, 1, 1]\n",
    "]\n",
    "print(\"All the rooms are dirty\")\n",
    "display(room)\n",
    "x = 0 \n",
    "y = 0 \n",
    "while x < 4: \n",
    "    while y < 4: \n",
    "        room[x][y] = random.choice([0, 1])\n",
    "        y += 1 \n",
    "    x += 1\n",
    "    y = 0 \n",
    "print(\"Before cleaning the room, I detect all of these random dirts\")\n",
    "display(room)\n",
    "x = 0\n",
    "y = 0 \n",
    "z = 0\n",
    "while x < 4: \n",
    "    while y < 4: \n",
    "        if room[x][y] == 1: \n",
    "            print(\"Vaccum in this location now: \", x, y)\n",
    "            room[x][y] = 0 \n",
    "            print(\"Cleaned: \",x, y)\n",
    "            z += 1 \n",
    "        y += 1 \n",
    "    x += 1 \n",
    "    y = 0 \n",
    "performance = (100 - ((z / 16) * 100))\n",
    "print(\"Room is clean now. Thanks for using the Robot Vacuum Cleaner!\")\n",
    "display(room)\n",
    "print('Performance = ', performance, '%')"
   ]
  },
  {
   "cell_type": "code",
   "execution_count": null,
   "id": "d6608d12-110a-4c22-b8e7-b764e40705e1",
   "metadata": {},
   "outputs": [],
   "source": []
  },
  {
   "cell_type": "code",
   "execution_count": null,
   "id": "c6f96399-76ee-488f-8a75-75ea47d4ab4a",
   "metadata": {},
   "outputs": [],
   "source": []
  }
 ],
 "metadata": {
  "kernelspec": {
   "display_name": "Python [conda env:base] *",
   "language": "python",
   "name": "conda-base-py"
  },
  "language_info": {
   "codemirror_mode": {
    "name": "ipython",
    "version": 3
   },
   "file_extension": ".py",
   "mimetype": "text/x-python",
   "name": "python",
   "nbconvert_exporter": "python",
   "pygments_lexer": "ipython3",
   "version": "3.12.4"
  }
 },
 "nbformat": 4,
 "nbformat_minor": 5
}
