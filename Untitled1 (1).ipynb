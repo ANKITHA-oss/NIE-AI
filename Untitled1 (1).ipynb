{
 "cells": [
  {
   "cell_type": "code",
   "execution_count": 1,
   "id": "bd5539fe-476d-4f35-b407-43c51b449f5a",
   "metadata": {},
   "outputs": [
    {
     "name": "stdout",
     "output_type": "stream",
     "text": [
      "dfs traversal order (using stack):\n"
     ]
    },
    {
     "ename": "NameError",
     "evalue": "name 'dfs_using' is not defined",
     "output_type": "error",
     "traceback": [
      "\u001b[1;31m---------------------------------------------------------------------------\u001b[0m",
      "\u001b[1;31mNameError\u001b[0m                                 Traceback (most recent call last)",
      "Cell \u001b[1;32mIn[1], line 23\u001b[0m\n\u001b[0;32m     21\u001b[0m                     stack\u001b[38;5;241m.\u001b[39mappend(neighbor)\n\u001b[0;32m     22\u001b[0m \u001b[38;5;28mprint\u001b[39m(\u001b[38;5;124m\"\u001b[39m\u001b[38;5;124mdfs traversal order (using stack):\u001b[39m\u001b[38;5;124m\"\u001b[39m)\n\u001b[1;32m---> 23\u001b[0m dfs_using\u001b[38;5;241m-\u001b[39mstack(graph,\u001b[38;5;124m'\u001b[39m\u001b[38;5;124mA\u001b[39m\u001b[38;5;124m'\u001b[39m)\n",
      "\u001b[1;31mNameError\u001b[0m: name 'dfs_using' is not defined"
     ]
    }
   ],
   "source": [
    "graph={\n",
    "    'A':['B','c'],\n",
    "    'B':['D','E'],\n",
    "    'C':['F'],\n",
    "    'D':[],\n",
    "    'E':[],\n",
    "    'F':[]\n",
    "}\n",
    "def dfs_uisng_stack(graph,start_node):\n",
    "    \"\"\" perform depth-first search(dfs)using an explicit stack\n",
    "    \"\"\"\n",
    "    stack=[start_node]\n",
    "    visited=set()\n",
    "    while stack:\n",
    "        current_node=stack.pop()\n",
    "        if current_node not in visited:\n",
    "            print(current_node,end=\"\")\n",
    "            visited.add(current_node)\n",
    "            for neighbor in reversed(graph[current_node]):\n",
    "                if neighbor not in visited:\n",
    "                    stack.append(neighbor)\n",
    "print(\"dfs traversal order (using stack):\")\n",
    "dfs_using-stack(graph,'A')"
   ]
  },
  {
   "cell_type": "code",
   "execution_count": 3,
   "id": "194653f5-9ed8-4d7e-8630-39d676997fba",
   "metadata": {},
   "outputs": [],
   "source": [
    "import pandas as pd"
   ]
  },
  {
   "cell_type": "code",
   "execution_count": 7,
   "id": "a096d1e3-1455-44dd-a3c0-e8391f8506da",
   "metadata": {},
   "outputs": [],
   "source": [
    "graph={\n",
    "    'A':['B','c'],\n",
    "    'B':['D','E'],\n",
    "    'C':['F'],\n",
    "    'D':[],\n",
    "    'E':[],\n",
    "    'F':[]\n",
    "}\n",
    "def dfs_uisng_stack(graph,start_node):\n",
    "    \"\"\" perform depth-first search(dfs)using an explicit stack\n",
    "    \"\"\"\n",
    "    stack=[start_node]\n",
    "    visited=set()\n",
    "    while stack:\n",
    "        current_node=stack.pop()\n",
    "        if current_node not in visited:\n",
    "            print(current_node,end=\"\")\n",
    "            visited.add(current_node)\n",
    "            for neighbor in reversed(graph[current_node]):\n",
    "                if neighbor not in visited:\n",
    "                    stack.append(neighbor)\n"
   ]
  },
  {
   "cell_type": "code",
   "execution_count": null,
   "id": "03e3d19b-45a3-4e4c-949a-32eb2bed6487",
   "metadata": {},
   "outputs": [],
   "source": [
    "print(\"dfs traversal order (using stack):\")\n",
    "dfs_using-stack(graph,'A')"
   ]
  }
 ],
 "metadata": {
  "kernelspec": {
   "display_name": "Python [conda env:base] *",
   "language": "python",
   "name": "conda-base-py"
  },
  "language_info": {
   "codemirror_mode": {
    "name": "ipython",
    "version": 3
   },
   "file_extension": ".py",
   "mimetype": "text/x-python",
   "name": "python",
   "nbconvert_exporter": "python",
   "pygments_lexer": "ipython3",
   "version": "3.12.4"
  }
 },
 "nbformat": 4,
 "nbformat_minor": 5
}
